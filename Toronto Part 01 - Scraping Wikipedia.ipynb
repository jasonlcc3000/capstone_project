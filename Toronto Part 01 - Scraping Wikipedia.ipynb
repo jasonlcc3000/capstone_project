{
    "cells": [
        {
            "cell_type": "code",
            "execution_count": 10,
            "metadata": {},
            "outputs": [],
            "source": "import pandas as pd\nimport numpy as np\nfrom bs4 import BeautifulSoup\nimport requests\n\npd.set_option('display.max_rows', 500)\npd.set_option('display.max_columns', 500)\npd.set_option('display.width', 4000)"
        },
        {
            "cell_type": "markdown",
            "metadata": {},
            "source": "## Scrape table from Webpage"
        },
        {
            "cell_type": "code",
            "execution_count": 5,
            "metadata": {},
            "outputs": [],
            "source": "url = 'https://en.wikipedia.org/wiki/List_of_postal_codes_of_Canada:_M'\nwikipage= requests.get(url).text\n\n# Parse html/xml codes from webpage.\nsoup = BeautifulSoup(wikipage,'xml')\n\n# get the table in wikipage\ntable = soup.find('table')\n\nlistPostcode = []\nlistBorough = []\nlistNeighbourhood = []\n\nfor row in table.find_all('tr'):      \n    cells = row.find_all('td')\n    if cells:   # if cells has elements\n        Postcode_var = cells[0].find(text = True)\n        Borough_var = cells[1].find(text = True)\n        Neighbourhood_var = cells[2].find(text = True).strip()    # .strip() to remove new line character '\\n' at end of text.\n    else:\n        continue    # skip to next row if no elements\n    \n\n    # skip to next row if Borough = 'Not assigned'    \n    if Borough_var == 'Not assigned': \n        continue\n    \n    # if Neighbourhood = 'Not assigned', then Neighborhood will be the same as Borough   \n    if Neighbourhood_var == 'Not assigned': \n        Neighbourhood_var = Borough_var\n\n    \n    listPostcode.append(Postcode_var)\n    listBorough.append(Borough_var)\n    listNeighbourhood.append(Neighbourhood_var)"
        },
        {
            "cell_type": "markdown",
            "metadata": {},
            "source": "## Combine Neighbourhoods that share same Postcode"
        },
        {
            "cell_type": "code",
            "execution_count": 7,
            "metadata": {},
            "outputs": [
                {
                    "name": "stdout",
                    "output_type": "stream",
                    "text": "Number of unique Postcode: 103\nNumber of all Postcode: 210\n"
                }
            ],
            "source": "listUniqPostcode = set(listPostcode)\nprint(f'Number of unique Postcode: {len(listUniqPostcode)}')\nprint(f'Number of all Postcode: {len(listPostcode)}')\nlistNewPostcode = []\nlistNewBorough = []\nlistNewNeighbourhood = []\n\n\nfor postcode in listUniqPostcode:\n    p_var = ''; b_var = ''; n_var = ''; \n    for idx, item in enumerate(listPostcode):\n        if item == postcode:\n            p_var = item;\n            b_var = listBorough[idx]\n            if n_var == '':    # if Neighbourhood hasn't got value due to new postcode\n                n_var = listNeighbourhood[idx]\n            else:     # if Neighbourhood already has value due to same postcode\n                n_var = n_var + ', ' + listNeighbourhood[idx]\n                \n    listNewPostcode.append(p_var)\n    listNewBorough.append(b_var)\n    listNewNeighbourhood.append(n_var)"
        },
        {
            "cell_type": "markdown",
            "metadata": {},
            "source": "## Create dataframe"
        },
        {
            "cell_type": "code",
            "execution_count": 12,
            "metadata": {},
            "outputs": [
                {
                    "name": "stdout",
                    "output_type": "stream",
                    "text": "  Postcode           Borough                                      Neighbourhood\n0      M9M        North York                                   Emery, Humberlea\n1      M4M      East Toronto                                    Studio District\n2      M5B  Downtown Toronto                           Ryerson, Garden District\n3      M1J       Scarborough                                Scarborough Village\n4      M6S      West Toronto                                 Runnymede, Swansea\n5      M4N   Central Toronto                                      Lawrence Park\n6      M4Y  Downtown Toronto                               Church and Wellesley\n7      M1H       Scarborough                                          Cedarbrae\n8      M2J        North York                       Fairview, Henry Farm, Oriole\n9      M9R         Etobicoke  Kingsview Village, Martin Grove Gardens, Richv...\n\n(103, 3)\n"
                }
            ],
            "source": "dict = {'Postcode':listNewPostcode, 'Borough':listNewBorough, 'Neighbourhood':listNewNeighbourhood}\ndf = pd.DataFrame.from_dict(dict)\ndf.to_csv('toronto_part1.csv')\nprint(df.head(10))\nprint()\nprint(df.shape)"
        },
        {
            "cell_type": "code",
            "execution_count": null,
            "metadata": {},
            "outputs": [],
            "source": ""
        }
    ],
    "metadata": {
        "kernelspec": {
            "display_name": "Python 3.6",
            "language": "python",
            "name": "python3"
        },
        "language_info": {
            "codemirror_mode": {
                "name": "ipython",
                "version": 3
            },
            "file_extension": ".py",
            "mimetype": "text/x-python",
            "name": "python",
            "nbconvert_exporter": "python",
            "pygments_lexer": "ipython3",
            "version": "3.6.9"
        }
    },
    "nbformat": 4,
    "nbformat_minor": 1
}