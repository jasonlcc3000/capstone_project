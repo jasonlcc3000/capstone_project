{
    "cells": [
        {
            "cell_type": "code",
            "execution_count": 1,
            "metadata": {},
            "outputs": [],
            "source": "import pandas as pd\nimport numpy as np\nfrom bs4 import BeautifulSoup\nimport requests\n\npd.set_option('display.max_rows', 500)\npd.set_option('display.max_columns', 500)\npd.set_option('display.width', 4000)"
        },
        {
            "cell_type": "markdown",
            "metadata": {},
            "source": "## Scrape table from Webpage"
        },
        {
            "cell_type": "code",
            "execution_count": 2,
            "metadata": {},
            "outputs": [],
            "source": "url = 'https://en.wikipedia.org/wiki/List_of_postal_codes_of_Canada:_M'\nwikipage= requests.get(url).text\n\n# Parse html/xml codes from webpage.\nsoup = BeautifulSoup(wikipage,'xml')\n\n# get the table in wikipage\ntable = soup.find('table')\n\nlistPostcode = []\nlistBorough = []\nlistNeighbourhood = []\n\nfor row in table.find_all('tr'):      \n    cells = row.find_all('td')\n    if cells:   # if cells has elements\n        Postcode_var = cells[0].find(text = True)\n        Borough_var = cells[1].find(text = True)\n        Neighbourhood_var = cells[2].find(text = True).strip()    # .strip() to remove new line character '\\n' at end of text.\n    else:\n        continue    # skip to next row if no elements\n    \n\n    # skip to next row if Borough = 'Not assigned'    \n    if Borough_var == 'Not assigned': \n        continue\n    \n    # if Neighbourhood = 'Not assigned', then Neighborhood will be the same as Borough   \n    if Neighbourhood_var == 'Not assigned': \n        Neighbourhood_var = Borough_var\n\n    \n    listPostcode.append(Postcode_var)\n    listBorough.append(Borough_var)\n    listNeighbourhood.append(Neighbourhood_var)"
        },
        {
            "cell_type": "markdown",
            "metadata": {},
            "source": "## Combine Neighbourhoods that share same Postcode"
        },
        {
            "cell_type": "code",
            "execution_count": 3,
            "metadata": {},
            "outputs": [
                {
                    "name": "stdout",
                    "output_type": "stream",
                    "text": "Number of unique Postcode: 103\nNumber of all Postcode: 210\n"
                }
            ],
            "source": "listUniqPostcode = set(listPostcode)\nprint(f'Number of unique Postcode: {len(listUniqPostcode)}')\nprint(f'Number of all Postcode: {len(listPostcode)}')\nlistNewPostcode = []\nlistNewBorough = []\nlistNewNeighbourhood = []\n\n\nfor postcode in listUniqPostcode:\n    p_var = ''; b_var = ''; n_var = ''; \n    for idx, item in enumerate(listPostcode):\n        if item == postcode:\n            p_var = item;\n            b_var = listBorough[idx]\n            if n_var == '':    # if Neighbourhood hasn't got value due to new postcode\n                n_var = listNeighbourhood[idx]\n            else:     # if Neighbourhood already has value due to same postcode\n                n_var = n_var + ', ' + listNeighbourhood[idx]\n                \n    listNewPostcode.append(p_var)\n    listNewBorough.append(b_var)\n    listNewNeighbourhood.append(n_var)"
        },
        {
            "cell_type": "markdown",
            "metadata": {},
            "source": "## Create dataframe"
        },
        {
            "cell_type": "code",
            "execution_count": 4,
            "metadata": {},
            "outputs": [
                {
                    "name": "stdout",
                    "output_type": "stream",
                    "text": "  Postalcode           Borough                                      Neighbourhood\n0        M2K        North York                                    Bayview Village\n1        M4C         East York                                   Woodbine Heights\n2        M4V   Central Toronto  Deer Park, Forest Hill SE, Rathnelly, South Hi...\n3        M4B         East York                    Woodbine Gardens, Parkview Hill\n4        M5R   Central Toronto                The Annex, North Midtown, Yorkville\n5        M4S   Central Toronto                                         Davisville\n6        M4T   Central Toronto                        Moore Park, Summerhill East\n7        M4W  Downtown Toronto                                           Rosedale\n8        M5A  Downtown Toronto                                       Harbourfront\n9        M1B       Scarborough                                     Rouge, Malvern\n\n(103, 3)\n"
                }
            ],
            "source": "dict = {'Postalcode':listNewPostcode, 'Borough':listNewBorough, 'Neighbourhood':listNewNeighbourhood}\ndf = pd.DataFrame.from_dict(dict)\ndf.to_csv('toronto_part1.csv')\nprint(df.head(10))\nprint()\nprint(df.shape)"
        },
        {
            "cell_type": "markdown",
            "metadata": {},
            "source": "## Install geocoder and run module to load lat/long data."
        },
        {
            "cell_type": "code",
            "execution_count": 5,
            "metadata": {},
            "outputs": [],
            "source": "#!pip install geocoder"
        },
        {
            "cell_type": "markdown",
            "metadata": {},
            "source": "import geocoder\n\nlistlat = []\nlistlong = []\n\nfor postcode in listUniqPostcode:\n    # initialize your variable to None\n    lat_lng_coords = None\n\n    # loop until you get the coordinates\n    while (lat_lng_coords is None):\n        g = geocoder.google('{}, Toronto, Ontario'.format(postcode))\n        lat_lng_coords = g.latlng\n    \n    print(postcode, 'Lat/Long done.')    \n    listlat.append(lat_lng_coords[0])\n    listlong.append(lat_lng_coords[1])\n\nprint(f'Number of Latitude records = {len(listlat)}')\nprint(f'Number of Longitude records = {len(listlong)}')"
        },
        {
            "cell_type": "markdown",
            "metadata": {},
            "source": "## The geocoder module took too long to load lat/long data. Use csv file instead."
        },
        {
            "cell_type": "code",
            "execution_count": 6,
            "metadata": {},
            "outputs": [
                {
                    "name": "stdout",
                    "output_type": "stream",
                    "text": "    Postalcode           Borough                                      Neighbourhood   Latitude  Longitude\n0          M2K        North York                                    Bayview Village  43.786947 -79.385975\n1          M4C         East York                                   Woodbine Heights  43.695344 -79.318389\n2          M4V   Central Toronto  Deer Park, Forest Hill SE, Rathnelly, South Hi...  43.686412 -79.400049\n3          M4B         East York                    Woodbine Gardens, Parkview Hill  43.706397 -79.309937\n4          M5R   Central Toronto                The Annex, North Midtown, Yorkville  43.672710 -79.405678\n5          M4S   Central Toronto                                         Davisville  43.704324 -79.388790\n6          M4T   Central Toronto                        Moore Park, Summerhill East  43.689574 -79.383160\n7          M4W  Downtown Toronto                                           Rosedale  43.679563 -79.377529\n8          M5A  Downtown Toronto                                       Harbourfront  43.654260 -79.360636\n9          M1B       Scarborough                                     Rouge, Malvern  43.806686 -79.194353\n10         M3K        North York                        CFB Toronto, Downsview East  43.737473 -79.464763\n11         M4M      East Toronto                                    Studio District  43.659526 -79.340923\n12         M7R       Mississauga              Canada Post Gateway Processing Centre  43.636966 -79.615819\n13         M6L        North York                 Downsview, North Park, Upwood Park  43.713756 -79.490074\n14         M6C              York                                 Humewood-Cedarvale  43.693781 -79.428191\n15         M6R      West Toronto                             Parkdale, Roncesvalles  43.648960 -79.456325\n16         M6G  Downtown Toronto                                           Christie  43.669542 -79.422564\n17         M5V  Downtown Toronto  CN Tower, Bathurst Quay, Island airport, Harbo...  43.628947 -79.394420\n18         M3H        North York    Bathurst Manor, Downsview North, Wilson Heights  43.754328 -79.442259\n19         M5K  Downtown Toronto           Design Exchange, Toronto Dominion Centre  43.647177 -79.381576\n20         M3A        North York                                          Parkwoods  43.753259 -79.329656\n21         M3L        North York                                     Downsview West  43.739015 -79.506944\n22         M1W       Scarborough                                    L'Amoreaux West  43.799525 -79.318389\n23         M3B        North York                                    Don Mills North  43.745906 -79.352188\n24         M1L       Scarborough                    Clairlea, Golden Mile, Oakridge  43.711112 -79.284577\n25         M9A         Etobicoke                                   Islington Avenue  43.667856 -79.532242\n26         M8W         Etobicoke                             Alderwood, Long Branch  43.602414 -79.543484\n27         M4Y  Downtown Toronto                               Church and Wellesley  43.665860 -79.383160\n28         M3C        North York                   Flemingdon Park, Don Mills South  43.725900 -79.340923\n29         M6J      West Toronto                           Little Portugal, Trinity  43.647927 -79.419750\n30         M6S      West Toronto                                 Runnymede, Swansea  43.651571 -79.484450\n31         M4R   Central Toronto                                 North Toronto West  43.715383 -79.405678\n32         M1T       Scarborough            Clarks Corners, Sullivan, Tam O'Shanter  43.781638 -79.304302\n33         M6B        North York                                          Glencairn  43.709577 -79.445073\n34         M1H       Scarborough                                          Cedarbrae  43.773136 -79.239476\n35         M5X  Downtown Toronto             First Canadian Place, Underground city  43.648429 -79.382280\n36         M8Z         Etobicoke  Kingsway Park South West, Mimico NW, The Queen...  43.628841 -79.520999\n37         M5E  Downtown Toronto                                        Berczy Park  43.644771 -79.373306\n38         M6E              York                                Caledonia-Fairbanks  43.689026 -79.453512\n39         M2J        North York                       Fairview, Henry Farm, Oriole  43.778517 -79.346556\n40         M6M              York     Del Ray, Keelesdale, Mount Dennis, Silverthorn  43.691116 -79.476013\n41         M4L      East Toronto                     The Beaches West, India Bazaar  43.668999 -79.315572\n42         M5H  Downtown Toronto                           Adelaide, King, Richmond  43.650571 -79.384568\n43         M5J  Downtown Toronto  Harbourfront East, Toronto Islands, Union Station  43.640816 -79.381752\n44         M1M       Scarborough    Cliffcrest, Cliffside, Scarborough Village West  43.716316 -79.239476\n45         M4K      East Toronto                       The Danforth West, Riverdale  43.679557 -79.352188\n46         M8Y         Etobicoke  Humber Bay, King's Mill Park, Kingsway Park So...  43.636258 -79.498509\n47         M1E       Scarborough                  Guildwood, Morningside, West Hill  43.763573 -79.188711\n48         M5T  Downtown Toronto          Chinatown, Grange Park, Kensington Market  43.653206 -79.400049\n49         M2H        North York                                  Hillcrest Village  43.803762 -79.363452\n50         M9V         Etobicoke  Albion Gardens, Beaumond Heights, Humbergate, ...  43.739416 -79.588437\n51         M5N   Central Toronto                                           Roselawn  43.711695 -79.416936\n52         M6K      West Toronto       Brockton, Exhibition Place, Parkdale Village  43.636847 -79.428191\n53         M2M        North York                            Newtonbrook, Willowdale  43.789053 -79.408493\n54         M5P   Central Toronto                Forest Hill North, Forest Hill West  43.696948 -79.411307\n55         M1S       Scarborough                                          Agincourt  43.794200 -79.262029\n56         M9W         Etobicoke                                          Northwest  43.706748 -79.594054\n57         M1C       Scarborough             Highland Creek, Rouge Hill, Port Union  43.784535 -79.160497\n58         M7Y      East Toronto  Business Reply Mail Processing Centre 969 Eastern  43.662744 -79.321558\n59         M5M        North York                  Bedford Park, Lawrence Manor East  43.733283 -79.419750\n60         M5C  Downtown Toronto                                     St. James Town  43.651494 -79.375418\n61         M5L  Downtown Toronto                     Commerce Court, Victoria Hotel  43.648198 -79.379817\n62         M1P       Scarborough  Dorset Park, Scarborough Town Centre, Wexford ...  43.757410 -79.273304\n63         M3M        North York                                  Downsview Central  43.728496 -79.495697\n64         M6N              York                      The Junction North, Runnymede  43.673185 -79.487262\n65         M9N              York                                             Weston  43.706876 -79.518188\n66         M1J       Scarborough                                Scarborough Village  43.744734 -79.239476\n67         M9L        North York                                      Humber Summit  43.756303 -79.565963\n68         M4N   Central Toronto                                      Lawrence Park  43.728020 -79.388790\n69         M4H         East York                                   Thorncliffe Park  43.705369 -79.349372\n70         M7A  Downtown Toronto                                       Queen's Park  43.662301 -79.389494\n71         M2R        North York                                    Willowdale West  43.782736 -79.442259\n72         M4P   Central Toronto                                   Davisville North  43.712751 -79.390197\n73         M9R         Etobicoke  Kingsview Village, Martin Grove Gardens, Richv...  43.688905 -79.554724\n74         M4A        North York                                   Victoria Village  43.725882 -79.315572\n75         M6H      West Toronto                       Dovercourt Village, Dufferin  43.669005 -79.442259\n76         M1R       Scarborough                                  Maryvale, Wexford  43.750072 -79.295849\n77         M4G         East York                                            Leaside  43.709060 -79.363452\n78         M3N        North York                                Downsview Northwest  43.761631 -79.520999\n79         M9M        North York                                   Emery, Humberlea  43.724766 -79.532242\n80         M5S  Downtown Toronto                     Harbord, University of Toronto  43.662696 -79.400049\n81         M1G       Scarborough                                             Woburn  43.770992 -79.216917\n82         M6A        North York                   Lawrence Heights, Lawrence Manor  43.718518 -79.464763\n83         M5W  Downtown Toronto                    Stn A PO Boxes 25 The Esplanade  43.646435 -79.374846\n84         M6P      West Toronto                      High Park, The Junction South  43.661608 -79.464763\n85         M2N        North York                                   Willowdale South  43.770120 -79.408493\n86         M5B  Downtown Toronto                           Ryerson, Garden District  43.657162 -79.378937\n87         M8V         Etobicoke       Humber Bay Shores, Mimico South, New Toronto  43.605647 -79.501321\n88         M1V       Scarborough  Agincourt North, L'Amoreaux East, Milliken, St...  43.815252 -79.284577\n89         M3J        North York                    Northwood Park, York University  43.767980 -79.487262\n90         M2P        North York                                    York Mills West  43.752758 -79.400049\n91         M9C         Etobicoke  Bloordale Gardens, Eringate, Markland Wood, Ol...  43.643515 -79.577201\n92         M9B         Etobicoke  Cloverdale, Islington, Martin Grove, Princess ...  43.650943 -79.554724\n93         M9P         Etobicoke                                          Westmount  43.696319 -79.532242\n94         M5G  Downtown Toronto                                 Central Bay Street  43.657952 -79.387383\n95         M4E      East Toronto                                        The Beaches  43.676357 -79.293031\n96         M1N       Scarborough                        Birch Cliff, Cliffside West  43.692657 -79.264848\n97         M2L        North York                           Silver Hills, York Mills  43.757490 -79.374714\n98         M8X         Etobicoke      The Kingsway, Montgomery Road, Old Mill North  43.653654 -79.506944\n99         M1X       Scarborough                                        Upper Rouge  43.836125 -79.205636\n100        M4J         East York                                       East Toronto  43.685347 -79.338106\n101        M4X  Downtown Toronto                        Cabbagetown, St. James Town  43.667967 -79.367675\n102        M1K       Scarborough        East Birchmount Park, Ionview, Kennedy Park  43.727929 -79.262029\n"
                }
            ],
            "source": "########## Load lat/long csv ##########   \nurl = 'https://cocl.us/Geospatial_data'\ndflatlong = pd.read_csv(url, index_col = None)\n# print(dflatlong)\n\n\n########## Merge original dataframe with lat/long dataframe ##########   \ndfnew = pd.merge(df, dflatlong, left_on = \"Postalcode\", right_on = \"Postal Code\")\ndfnew.drop('Postal Code', axis = 1, inplace = True)\nprint(dfnew)\n"
        },
        {
            "cell_type": "code",
            "execution_count": null,
            "metadata": {},
            "outputs": [],
            "source": ""
        }
    ],
    "metadata": {
        "kernelspec": {
            "display_name": "Python 3.6",
            "language": "python",
            "name": "python3"
        },
        "language_info": {
            "codemirror_mode": {
                "name": "ipython",
                "version": 3
            },
            "file_extension": ".py",
            "mimetype": "text/x-python",
            "name": "python",
            "nbconvert_exporter": "python",
            "pygments_lexer": "ipython3",
            "version": "3.6.9"
        }
    },
    "nbformat": 4,
    "nbformat_minor": 1
}